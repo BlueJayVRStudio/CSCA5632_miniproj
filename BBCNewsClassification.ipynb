{
 "cells": [
  {
   "cell_type": "markdown",
   "id": "53395a44-3d27-471d-9286-410dc324b0b3",
   "metadata": {},
   "source": [
    "# CSCA 5632 Mini Project: BBC News Classification"
   ]
  },
  {
   "cell_type": "code",
   "execution_count": 2,
   "id": "9fbb4c1f-9de5-43b7-94aa-a0ee28a52732",
   "metadata": {},
   "outputs": [],
   "source": [
    "import os\n",
    "import numpy as np\n",
    "import pandas as pd\n",
    "import matplotlib.pyplot as plt\n",
    "\n",
    "import seaborn as sns\n",
    "import statsmodels.formula.api as smf\n",
    "import statsmodels.api as sm"
   ]
  },
  {
   "cell_type": "markdown",
   "id": "6921a415-7a7b-4775-821a-1654d51aa591",
   "metadata": {},
   "source": [
    "## EDA"
   ]
  },
  {
   "cell_type": "code",
   "execution_count": null,
   "id": "6def85bc-b016-4c1b-bcb7-1f3b9b866a44",
   "metadata": {},
   "outputs": [],
   "source": []
  }
 ],
 "metadata": {
  "kernelspec": {
   "display_name": "Python 3 (ipykernel)",
   "language": "python",
   "name": "python3"
  },
  "language_info": {
   "codemirror_mode": {
    "name": "ipython",
    "version": 3
   },
   "file_extension": ".py",
   "mimetype": "text/x-python",
   "name": "python",
   "nbconvert_exporter": "python",
   "pygments_lexer": "ipython3",
   "version": "3.10.12"
  }
 },
 "nbformat": 4,
 "nbformat_minor": 5
}
