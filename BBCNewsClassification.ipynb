{
 "cells": [
  {
   "cell_type": "markdown",
   "id": "53395a44-3d27-471d-9286-410dc324b0b3",
   "metadata": {},
   "source": [
    "# CSCA 5632 Mini Project: BBC News Classification"
   ]
  },
  {
   "cell_type": "code",
   "execution_count": 379,
   "id": "9fbb4c1f-9de5-43b7-94aa-a0ee28a52732",
   "metadata": {},
   "outputs": [],
   "source": [
    "import os\n",
    "import json\n",
    "import itertools\n",
    "import numpy as np\n",
    "import pandas as pd\n",
    "import matplotlib.pyplot as plt\n",
    "\n",
    "import seaborn as sns\n",
    "import statsmodels.formula.api as smf\n",
    "import statsmodels.api as sm\n",
    "from sklearn.model_selection import GridSearchCV\n",
    "\n",
    "from sklearn.metrics import confusion_matrix\n",
    "from helpers.metrics import *\n",
    "\n",
    "# for text preprocessing\n",
    "import nltk\n",
    "from nltk.corpus import stopwords\n",
    "from nltk.stem import PorterStemmer\n",
    "from nltk.tokenize import word_tokenize\n",
    "# nltk.download('stopwords')\n",
    "# nltk.download('punkt_tab')\n",
    "import re\n",
    "\n",
    "from sklearn.feature_extraction.text import TfidfVectorizer\n",
    "from sklearn.decomposition import NMF\n"
   ]
  },
  {
   "cell_type": "code",
   "execution_count": 380,
   "id": "cb6e8395-65d6-4f3e-8680-f80d3f76f112",
   "metadata": {},
   "outputs": [],
   "source": [
    "import warnings\n",
    "from sklearn.exceptions import ConvergenceWarning\n",
    "\n",
    "# please, no warnings\n",
    "warnings.filterwarnings(\"ignore\")\n",
    "warnings.filterwarnings(\"ignore\", category=ConvergenceWarning)\n",
    "os.environ['PYTHONWARNINGS']='ignore'"
   ]
  },
  {
   "cell_type": "markdown",
   "id": "6921a415-7a7b-4775-821a-1654d51aa591",
   "metadata": {},
   "source": [
    "## Exploratory Data Analysis (EDA)"
   ]
  },
  {
   "cell_type": "code",
   "execution_count": 381,
   "id": "6def85bc-b016-4c1b-bcb7-1f3b9b866a44",
   "metadata": {},
   "outputs": [],
   "source": [
    "df_train = pd.read_csv('./data/news/BBC News Train.csv')\n",
    "df_test = pd.read_csv('./data/news/BBC News Test.csv')"
   ]
  },
  {
   "cell_type": "markdown",
   "id": "5bfd0ed5-b341-4b06-96e6-79e754c632a9",
   "metadata": {},
   "source": [
    "### Data inspection"
   ]
  },
  {
   "cell_type": "code",
   "execution_count": 382,
   "id": "87d2fcde-ce82-45b7-a8c8-5e942e6949e9",
   "metadata": {},
   "outputs": [
    {
     "name": "stdout",
     "output_type": "stream",
     "text": [
      "<class 'pandas.core.frame.DataFrame'>\n",
      "RangeIndex: 1490 entries, 0 to 1489\n",
      "Data columns (total 3 columns):\n",
      " #   Column     Non-Null Count  Dtype \n",
      "---  ------     --------------  ----- \n",
      " 0   ArticleId  1490 non-null   int64 \n",
      " 1   Text       1490 non-null   object\n",
      " 2   Category   1490 non-null   object\n",
      "dtypes: int64(1), object(2)\n",
      "memory usage: 35.0+ KB\n"
     ]
    }
   ],
   "source": [
    "df_train.info()"
   ]
  },
  {
   "cell_type": "code",
   "execution_count": 383,
   "id": "a1eb1cb1-2369-471d-a8e3-ec97f37448ef",
   "metadata": {},
   "outputs": [
    {
     "name": "stdout",
     "output_type": "stream",
     "text": [
      "<class 'pandas.core.frame.DataFrame'>\n",
      "RangeIndex: 735 entries, 0 to 734\n",
      "Data columns (total 2 columns):\n",
      " #   Column     Non-Null Count  Dtype \n",
      "---  ------     --------------  ----- \n",
      " 0   ArticleId  735 non-null    int64 \n",
      " 1   Text       735 non-null    object\n",
      "dtypes: int64(1), object(1)\n",
      "memory usage: 11.6+ KB\n"
     ]
    }
   ],
   "source": [
    "df_test.info()"
   ]
  },
  {
   "cell_type": "markdown",
   "id": "7fff8d0a-ebf5-4ac8-8276-d126813c6bcd",
   "metadata": {},
   "source": [
    "Train dataset has 1490 data points with article ID, article text and category labels. Test dataset has 735 entries with article ID and article text, but no labels. Both train and test data have only non-null values, so we do not need to drop any entries based on null values."
   ]
  },
  {
   "cell_type": "markdown",
   "id": "e7979542-8538-493b-a27e-f0c411a57856",
   "metadata": {},
   "source": [
    "### Drop Duplicates\n",
    "\n",
    "Although we did not have to drop any null values, we should still check for duplicates in train data."
   ]
  },
  {
   "cell_type": "code",
   "execution_count": 384,
   "id": "db0399b8-8584-4e1d-962e-360399884379",
   "metadata": {},
   "outputs": [
    {
     "data": {
      "text/html": [
       "<div>\n",
       "<style scoped>\n",
       "    .dataframe tbody tr th:only-of-type {\n",
       "        vertical-align: middle;\n",
       "    }\n",
       "\n",
       "    .dataframe tbody tr th {\n",
       "        vertical-align: top;\n",
       "    }\n",
       "\n",
       "    .dataframe thead th {\n",
       "        text-align: right;\n",
       "    }\n",
       "</style>\n",
       "<table border=\"1\" class=\"dataframe\">\n",
       "  <thead>\n",
       "    <tr style=\"text-align: right;\">\n",
       "      <th></th>\n",
       "      <th>ArticleId</th>\n",
       "      <th>Text</th>\n",
       "      <th>Category</th>\n",
       "    </tr>\n",
       "  </thead>\n",
       "  <tbody>\n",
       "    <tr>\n",
       "      <th>0</th>\n",
       "      <td>1833</td>\n",
       "      <td>worldcom ex-boss launches defence lawyers defe...</td>\n",
       "      <td>business</td>\n",
       "    </tr>\n",
       "    <tr>\n",
       "      <th>1</th>\n",
       "      <td>154</td>\n",
       "      <td>german business confidence slides german busin...</td>\n",
       "      <td>business</td>\n",
       "    </tr>\n",
       "    <tr>\n",
       "      <th>2</th>\n",
       "      <td>1101</td>\n",
       "      <td>bbc poll indicates economic gloom citizens in ...</td>\n",
       "      <td>business</td>\n",
       "    </tr>\n",
       "    <tr>\n",
       "      <th>3</th>\n",
       "      <td>1976</td>\n",
       "      <td>lifestyle  governs mobile choice  faster  bett...</td>\n",
       "      <td>tech</td>\n",
       "    </tr>\n",
       "    <tr>\n",
       "      <th>4</th>\n",
       "      <td>917</td>\n",
       "      <td>enron bosses in $168m payout eighteen former e...</td>\n",
       "      <td>business</td>\n",
       "    </tr>\n",
       "    <tr>\n",
       "      <th>...</th>\n",
       "      <td>...</td>\n",
       "      <td>...</td>\n",
       "      <td>...</td>\n",
       "    </tr>\n",
       "    <tr>\n",
       "      <th>1485</th>\n",
       "      <td>857</td>\n",
       "      <td>double eviction from big brother model caprice...</td>\n",
       "      <td>entertainment</td>\n",
       "    </tr>\n",
       "    <tr>\n",
       "      <th>1486</th>\n",
       "      <td>325</td>\n",
       "      <td>dj double act revamp chart show dj duo jk and ...</td>\n",
       "      <td>entertainment</td>\n",
       "    </tr>\n",
       "    <tr>\n",
       "      <th>1487</th>\n",
       "      <td>1590</td>\n",
       "      <td>weak dollar hits reuters revenues at media gro...</td>\n",
       "      <td>business</td>\n",
       "    </tr>\n",
       "    <tr>\n",
       "      <th>1488</th>\n",
       "      <td>1587</td>\n",
       "      <td>apple ipod family expands market apple has exp...</td>\n",
       "      <td>tech</td>\n",
       "    </tr>\n",
       "    <tr>\n",
       "      <th>1489</th>\n",
       "      <td>538</td>\n",
       "      <td>santy worm makes unwelcome visit thousands of ...</td>\n",
       "      <td>tech</td>\n",
       "    </tr>\n",
       "  </tbody>\n",
       "</table>\n",
       "<p>1440 rows × 3 columns</p>\n",
       "</div>"
      ],
      "text/plain": [
       "      ArticleId                                               Text  \\\n",
       "0          1833  worldcom ex-boss launches defence lawyers defe...   \n",
       "1           154  german business confidence slides german busin...   \n",
       "2          1101  bbc poll indicates economic gloom citizens in ...   \n",
       "3          1976  lifestyle  governs mobile choice  faster  bett...   \n",
       "4           917  enron bosses in $168m payout eighteen former e...   \n",
       "...         ...                                                ...   \n",
       "1485        857  double eviction from big brother model caprice...   \n",
       "1486        325  dj double act revamp chart show dj duo jk and ...   \n",
       "1487       1590  weak dollar hits reuters revenues at media gro...   \n",
       "1488       1587  apple ipod family expands market apple has exp...   \n",
       "1489        538  santy worm makes unwelcome visit thousands of ...   \n",
       "\n",
       "           Category  \n",
       "0          business  \n",
       "1          business  \n",
       "2          business  \n",
       "3              tech  \n",
       "4          business  \n",
       "...             ...  \n",
       "1485  entertainment  \n",
       "1486  entertainment  \n",
       "1487       business  \n",
       "1488           tech  \n",
       "1489           tech  \n",
       "\n",
       "[1440 rows x 3 columns]"
      ]
     },
     "execution_count": 384,
     "metadata": {},
     "output_type": "execute_result"
    }
   ],
   "source": [
    "df_train = df_train.drop_duplicates(subset=['Text'])\n",
    "df_train"
   ]
  },
  {
   "cell_type": "markdown",
   "id": "1de0aff5-22e7-4e13-803a-1900cf302b3b",
   "metadata": {},
   "source": [
    "After dropping duplicates, we are left with 1440 entries (50 dropped)."
   ]
  },
  {
   "cell_type": "markdown",
   "id": "cff714f9-41d0-4529-851f-2734e3bfb8b2",
   "metadata": {},
   "source": [
    "### Check Class Imbalance"
   ]
  },
  {
   "cell_type": "code",
   "execution_count": 385,
   "id": "3c1934e1-b2af-4c6f-88a7-0f4c4314b504",
   "metadata": {},
   "outputs": [
    {
     "data": {
      "image/png": "[encoded data removed]",
      "text/plain": [
       "<Figure size 800x600 with 1 Axes>"
      ]
     },
     "metadata": {},
     "output_type": "display_data"
    }
   ],
   "source": [
    "class_counts = df_train['Category'].value_counts()\n",
    "\n",
    "# bar plot\n",
    "plt.figure(figsize=(8, 6))\n",
    "sns.barplot(x=class_counts.index, y=class_counts.values)\n",
    "plt.title('Class Distribution')\n",
    "plt.xlabel('Class')\n",
    "plt.ylabel('Count')\n",
    "plt.show()"
   ]
  },
  {
   "cell_type": "markdown",
   "id": "6b6bcfea-90ec-4045-b639-87ba88693b7d",
   "metadata": {},
   "source": [
    "There is a slight imbalance in labels towards sports and business articles, but it seems each label has decent representation."
   ]
  },
  {
   "cell_type": "markdown",
   "id": "ac11f904-ce88-4a90-b1f0-a0e43998f8f2",
   "metadata": {},
   "source": [
    "### Text Cleaning"
   ]
  },
  {
   "cell_type": "markdown",
   "id": "2e03d178-5a17-49f1-80d2-45d3b870193b",
   "metadata": {},
   "source": [
    "Next, we must perform preprocessing specific to the texts. Below is an example of an unprocessed text."
   ]
  },
  {
   "cell_type": "markdown",
   "id": "19dfcd98-20d0-4290-93e7-757f7a367d52",
   "metadata": {},
   "source": [
    "#### Before cleaning:"
   ]
  },
  {
   "cell_type": "code",
   "execution_count": 386,
   "id": "60aab0fd-8624-4891-b1d9-5c8ad50aaa8e",
   "metadata": {},
   "outputs": [
    {
     "data": {
      "text/plain": [
       "'worldcom ex-boss launches defence lawyers defending former worldcom chief bernie ebbers against a battery of fraud charges have called a company whistleblower as their first witness.  cynthia cooper  worldcom s ex-head of internal accounting  alerted directors to irregular accounting practices at the us telecoms giant in 2002. her warnings led to the collapse of the firm following the discovery of an $11bn (£5.7bn) accounting fraud. mr ebbers has pleaded not guilty to charges of fraud and conspiracy.  prosecution lawyers have argued that mr ebbers orchestrated a series of accounting tricks at worldcom  ordering employees to hide expenses and inflate revenues to meet wall street earnings estimates. but ms cooper  who now runs her own consulting business  told a jury in new york on wednesday that external auditors arthur andersen had approved worldcom s accounting in early 2001 and 2002. she said andersen had given a  green light  to the procedures and practices used by worldcom. mr ebber s lawyers have said he was unaware of the fraud  arguing that auditors did not alert him to any problems.  ms cooper also said that during shareholder meetings mr ebbers often passed over technical questions to the company s finance chief  giving only  brief  answers himself. the prosecution s star witness  former worldcom financial chief scott sullivan  has said that mr ebbers ordered accounting adjustments at the firm  telling him to  hit our books . however  ms cooper said mr sullivan had not mentioned  anything uncomfortable  about worldcom s accounting during a 2001 audit committee meeting. mr ebbers could face a jail sentence of 85 years if convicted of all the charges he is facing. worldcom emerged from bankruptcy protection in 2004  and is now known as mci. last week  mci agreed to a buyout by verizon communications in a deal valued at $6.75bn.'"
      ]
     },
     "execution_count": 386,
     "metadata": {},
     "output_type": "execute_result"
    }
   ],
   "source": [
    "df_train.iloc[0]['Text']"
   ]
  },
  {
   "cell_type": "markdown",
   "id": "82edc156-cb71-4b60-9068-8eb499ba4d0e",
   "metadata": {},
   "source": [
    "Some low hanging fruits in cleaning the texts involve ensuring that they are all in lower case and stripping away punctuations, but I found an exhaustive list of text cleaning in a related Kaggle Notebook [[1](#[1]-https://www.kaggle.com/code/jieshends2020/matrix-factorization-97-acc-with-1-labels/notebook)], some of which we will consider:\n",
    "\n",
    "1. Ensure letters are all lower case\n",
    "2. Remove punctuation\n",
    "3. Remove extra whitespaces\n",
    "4. Remove stop words\n",
    "5. Reduce words to stems\n",
    "\n",
    "We want to remove stop words such as the definite and indefinite articles \"the\" and \"a/an\", because even though they are some of the most frequent words in a body of text, they do not provide much context clues. Furthermore, we want to reduce words to its stems because we could get stronger signals for topics if variations of the same words were reduced to a common form."
   ]
  },
  {
   "cell_type": "code",
   "execution_count": 387,
   "id": "dfcf6bd2-2988-45fb-9d78-639d26c5bddf",
   "metadata": {},
   "outputs": [],
   "source": [
    "# ensure lower case\n",
    "df_train['Text'] = df_train['Text'].str.lower()\n",
    "df_test['Text'] = df_test['Text'].str.lower()\n",
    "\n",
    "# remove punctuation\n",
    "df_train['Text'] = df_train['Text'].apply(lambda doc: re.sub(r'[^\\w\\s]+', '', doc))\n",
    "df_test['Text'] = df_test['Text'].apply(lambda doc: re.sub(r'[^\\w\\s]+', '', doc))\n",
    "\n",
    "# remove stop words\n",
    "stop_words = nltk.corpus.stopwords.words('english')\n",
    "df_train['Text'] = df_train['Text'].apply(lambda doc: ' '.join([word for word in doc.split() if word not in (stop_words)]))\n",
    "df_test['Text'] = df_test['Text'].apply(lambda doc: ' '.join([word for word in doc.split() if word not in (stop_words)]))\n",
    "\n",
    "# remove extra white spaces\n",
    "df_train['Text'] = df_train['Text'].apply(lambda doc: re.sub(' +', ' ', doc))\n",
    "df_test['Text'] = df_test['Text'].apply(lambda doc: re.sub(' +', ' ', doc))\n",
    "\n",
    "# stemming\n",
    "porter_stemmer = PorterStemmer()\n",
    "df_train['Text'] = df_train['Text'].apply(lambda doc:  [porter_stemmer.stem(word) for word in word_tokenize(doc) ])\n",
    "df_train['Text'] = df_train['Text'].apply(lambda words: ' '.join(words))\n",
    "df_test['Text'] = df_test['Text'].apply(lambda doc:  [porter_stemmer.stem(word) for word in word_tokenize(doc) ])\n",
    "df_test['Text'] = df_test['Text'].apply(lambda words: ' '.join(words))\n"
   ]
  },
  {
   "cell_type": "code",
   "execution_count": 388,
   "id": "05477f1e-eeaf-4f18-bcb7-272da1f6d481",
   "metadata": {},
   "outputs": [
    {
     "data": {
      "text/plain": [
       "0       worldcom exboss launch defenc lawyer defend fo...\n",
       "1       german busi confid slide german busi confid fe...\n",
       "2       bbc poll indic econom gloom citizen major nati...\n",
       "3       lifestyl govern mobil choic faster better funk...\n",
       "4       enron boss 168m payout eighteen former enron d...\n",
       "                              ...                        \n",
       "1485    doubl evict big brother model capric holbi cit...\n",
       "1486    dj doubl act revamp chart show dj duo jk joel ...\n",
       "1487    weak dollar hit reuter revenu media group reut...\n",
       "1488    appl ipod famili expand market appl expand ipo...\n",
       "1489    santi worm make unwelcom visit thousand websit...\n",
       "Name: Text, Length: 1440, dtype: object"
      ]
     },
     "execution_count": 388,
     "metadata": {},
     "output_type": "execute_result"
    }
   ],
   "source": [
    "df_train['Text']"
   ]
  },
  {
   "cell_type": "code",
   "execution_count": 389,
   "id": "09cefacb-1138-4595-89aa-05c47038b962",
   "metadata": {},
   "outputs": [
    {
     "data": {
      "text/plain": [
       "0      qpr keeper day head preston queen park ranger ...\n",
       "1      softwar watch work softwar monitor everi keyst...\n",
       "2      arci injuri add ireland woe gordon arci rule i...\n",
       "3      india relianc famili feud heat ongo public spa...\n",
       "4      boro suffer morrison injuri blow middlesbrough...\n",
       "                             ...                        \n",
       "730    eu probe alitalia state aid european commiss o...\n",
       "731    u2 play grammi award show irish rock band u2 p...\n",
       "732    sport bet rule spotlight group mp peer call ti...\n",
       "733    alfa romeo get gm engin fiat stop make sixcyli...\n",
       "734    citizenship event 18 tout citizenship ceremoni...\n",
       "Name: Text, Length: 735, dtype: object"
      ]
     },
     "execution_count": 389,
     "metadata": {},
     "output_type": "execute_result"
    }
   ],
   "source": [
    "df_test['Text']"
   ]
  },
  {
   "cell_type": "markdown",
   "id": "5a31d853-1dfc-41c0-b8f6-7b5d3522d84e",
   "metadata": {},
   "source": [
    "#### After Cleaning:"
   ]
  },
  {
   "cell_type": "code",
   "execution_count": 390,
   "id": "50ad41e6-2615-4b14-8340-4bdf55240e7f",
   "metadata": {},
   "outputs": [
    {
     "data": {
      "text/plain": [
       "'worldcom exboss launch defenc lawyer defend former worldcom chief berni ebber batteri fraud charg call compani whistleblow first wit cynthia cooper worldcom exhead intern account alert director irregular account practic us telecom giant 2002 warn led collaps firm follow discoveri 11bn 57bn account fraud mr ebber plead guilti charg fraud conspiraci prosecut lawyer argu mr ebber orchestr seri account trick worldcom order employe hide expens inflat revenu meet wall street earn estim ms cooper run consult busi told juri new york wednesday extern auditor arthur andersen approv worldcom account earli 2001 2002 said andersen given green light procedur practic use worldcom mr ebber lawyer said unawar fraud argu auditor alert problem ms cooper also said sharehold meet mr ebber often pass technic question compani financ chief give brief answer prosecut star wit former worldcom financi chief scott sullivan said mr ebber order account adjust firm tell hit book howev ms cooper said mr sullivan mention anyth uncomfort worldcom account 2001 audit committe meet mr ebber could face jail sentenc 85 year convict charg face worldcom emerg bankruptci protect 2004 known mci last week mci agre buyout verizon commun deal valu 675bn'"
      ]
     },
     "execution_count": 390,
     "metadata": {},
     "output_type": "execute_result"
    }
   ],
   "source": [
    "df_train.iloc[0]['Text']"
   ]
  },
  {
   "cell_type": "markdown",
   "id": "33090bad-2605-4314-ae6b-85626c5d7e20",
   "metadata": {},
   "source": [
    "## Model Training"
   ]
  },
  {
   "cell_type": "markdown",
   "id": "cfedc69a-52d9-409a-af13-378c56237bdb",
   "metadata": {},
   "source": [
    "##### Q: When training an unsupervised model for matrix factorization, should you include texts (word features) from the test dataset or not as the input matrix? Why or why not?\n",
    "\n",
    "Test data should not be included in the model training as it will introduce data leak.\n"
   ]
  },
  {
   "cell_type": "markdown",
   "id": "0413758d-b47d-4e1f-ae2c-3118a6a07081",
   "metadata": {},
   "source": [
    "### NMF prototype"
   ]
  },
  {
   "cell_type": "code",
   "execution_count": 391,
   "id": "1f7266e6-b9af-46d9-917b-f721611cfbcb",
   "metadata": {},
   "outputs": [
    {
     "name": "stdout",
     "output_type": "stream",
     "text": [
      "['business', 'entertainment', 'politics', 'sport', 'tech']\n"
     ]
    }
   ],
   "source": [
    "unique_labels = sorted(list(df_train['Category'].unique()))\n",
    "print(unique_labels)\n",
    "\n",
    "# helper function from CSCA 5632 Week 2 Lab\n",
    "def label_permute_compare(ytdf,yp,n=5):\n",
    "    permutations = list(itertools.permutations(range(n)))\n",
    "    \n",
    "#     print(yp)\n",
    "#     print(np.take((0,1,2,3,'hello world'), yp))\n",
    "    \n",
    "    max_acc = float('-inf')\n",
    "    permutation_ = None\n",
    "    prediction_ = None\n",
    "    \n",
    "    for permutation in permutations:\n",
    "        cluster_to_index = np.take(permutation, yp)\n",
    "        prediction = np.take(unique_labels, cluster_to_index)\n",
    "        # prediction = [unique_labels[permutation[i]] for i in yp]\n",
    "        \n",
    "        acc = sum(ytdf.Category == prediction)/ytdf.Category.shape[0]\n",
    "        if acc > max_acc:\n",
    "            max_acc = acc\n",
    "            permutation_ = permutation\n",
    "            prediction_ = prediction\n",
    "\n",
    "    return permutation_, max_acc"
   ]
  },
  {
   "cell_type": "code",
   "execution_count": 392,
   "id": "ead2079b-5442-4e88-8898-295a929611fe",
   "metadata": {},
   "outputs": [],
   "source": [
    "# Tokenizer + NMF wrapper\n",
    "def nmf_wrapper(train, **kwargs):\n",
    "    tfidf = TfidfVectorizer(**kwargs)\n",
    "    tfidf_train = tfidf.fit_transform(train['Text'])\n",
    "    \n",
    "    nmf = NMF(n_components=5,\n",
    "              init='nndsvda', \n",
    "              solver = 'mu',\n",
    "              beta_loss = 'kullback-leibler',\n",
    "              random_state = 0)\n",
    "    nmf_train = nmf.fit_transform(tfidf_train)\n",
    "    yp = np.argmax(nmf_train, axis=1)\n",
    "    \n",
    "    label_order, accuracy = label_permute_compare(train, yp)\n",
    "\n",
    "    # return the model, order of labels and accuracy\n",
    "    return tfidf, nmf, label_order, accuracy"
   ]
  },
  {
   "cell_type": "code",
   "execution_count": 393,
   "id": "0dd4e443-e67f-416a-8558-9c0aa022965f",
   "metadata": {},
   "outputs": [
    {
     "name": "stdout",
     "output_type": "stream",
     "text": [
      "NMF(beta_loss='kullback-leibler', init='nndsvda', n_components=5,\n",
      "    random_state=0, solver='mu') (0, 3, 1, 2, 4) 0.9340277777777778\n"
     ]
    }
   ],
   "source": [
    "# try a set of parameters\n",
    "args = {\n",
    "    'min_df': 5,\n",
    "    'max_df': .8,\n",
    "    'max_features': 500\n",
    "}\n",
    "\n",
    "best_vectorizer, best_model, best_label_order, accuracy = nmf_wrapper(df_train, **args)\n",
    "print(best_model, permutation, accuracy)"
   ]
  },
  {
   "cell_type": "code",
   "execution_count": 394,
   "id": "ad093bfa-6d18-41ba-9e3b-9a1173c43c0f",
   "metadata": {},
   "outputs": [
    {
     "data": {
      "text/html": [
       "<div>\n",
       "<style scoped>\n",
       "    .dataframe tbody tr th:only-of-type {\n",
       "        vertical-align: middle;\n",
       "    }\n",
       "\n",
       "    .dataframe tbody tr th {\n",
       "        vertical-align: top;\n",
       "    }\n",
       "\n",
       "    .dataframe thead th {\n",
       "        text-align: right;\n",
       "    }\n",
       "</style>\n",
       "<table border=\"1\" class=\"dataframe\">\n",
       "  <thead>\n",
       "    <tr style=\"text-align: right;\">\n",
       "      <th></th>\n",
       "      <th>ArticleId</th>\n",
       "      <th>Category</th>\n",
       "    </tr>\n",
       "  </thead>\n",
       "  <tbody>\n",
       "    <tr>\n",
       "      <th>0</th>\n",
       "      <td>1018</td>\n",
       "      <td>sport</td>\n",
       "    </tr>\n",
       "    <tr>\n",
       "      <th>1</th>\n",
       "      <td>1319</td>\n",
       "      <td>tech</td>\n",
       "    </tr>\n",
       "    <tr>\n",
       "      <th>2</th>\n",
       "      <td>1138</td>\n",
       "      <td>sport</td>\n",
       "    </tr>\n",
       "    <tr>\n",
       "      <th>3</th>\n",
       "      <td>459</td>\n",
       "      <td>business</td>\n",
       "    </tr>\n",
       "    <tr>\n",
       "      <th>4</th>\n",
       "      <td>1020</td>\n",
       "      <td>sport</td>\n",
       "    </tr>\n",
       "    <tr>\n",
       "      <th>...</th>\n",
       "      <td>...</td>\n",
       "      <td>...</td>\n",
       "    </tr>\n",
       "    <tr>\n",
       "      <th>730</th>\n",
       "      <td>1923</td>\n",
       "      <td>business</td>\n",
       "    </tr>\n",
       "    <tr>\n",
       "      <th>731</th>\n",
       "      <td>373</td>\n",
       "      <td>entertainment</td>\n",
       "    </tr>\n",
       "    <tr>\n",
       "      <th>732</th>\n",
       "      <td>1704</td>\n",
       "      <td>politics</td>\n",
       "    </tr>\n",
       "    <tr>\n",
       "      <th>733</th>\n",
       "      <td>206</td>\n",
       "      <td>business</td>\n",
       "    </tr>\n",
       "    <tr>\n",
       "      <th>734</th>\n",
       "      <td>471</td>\n",
       "      <td>politics</td>\n",
       "    </tr>\n",
       "  </tbody>\n",
       "</table>\n",
       "<p>735 rows × 2 columns</p>\n",
       "</div>"
      ],
      "text/plain": [
       "     ArticleId       Category\n",
       "0         1018          sport\n",
       "1         1319           tech\n",
       "2         1138          sport\n",
       "3          459       business\n",
       "4         1020          sport\n",
       "..         ...            ...\n",
       "730       1923       business\n",
       "731        373  entertainment\n",
       "732       1704       politics\n",
       "733        206       business\n",
       "734        471       politics\n",
       "\n",
       "[735 rows x 2 columns]"
      ]
     },
     "execution_count": 394,
     "metadata": {},
     "output_type": "execute_result"
    }
   ],
   "source": [
    "tfidf_test = best_vectorizer.transform(df_test['Text'])\n",
    "nmf_test = best_model.transform(tfidf_test)\n",
    "yp = np.argmax(nmf_test, axis=1)\n",
    "# prediction = [unique_labels[best_label_order[i]] for i in yp]\n",
    "cluster_to_index = np.take(permutation, yp)\n",
    "prediction = np.take(unique_labels, cluster_to_index)\n",
    "\n",
    "result = pd.DataFrame()\n",
    "result['ArticleId'] = df_test.ArticleId\n",
    "result['Category'] = prediction\n",
    "\n",
    "result.to_csv('./results/submission_no_tuning.csv', index=False)\n",
    "result\n",
    "\n",
    "# 92.653% test accuracy on Kaggle"
   ]
  },
  {
   "cell_type": "code",
   "execution_count": 395,
   "id": "30054155-8f24-4978-9a41-886b87648233",
   "metadata": {},
   "outputs": [
    {
     "name": "stdout",
     "output_type": "stream",
     "text": [
      "Prediction: ['business' 'business' 'business' ... 'business' 'tech' 'tech'] \n",
      "\n",
      "True Label: ['business' 'business' 'business' ... 'business' 'tech' 'tech'] \n",
      "\n",
      "[[303   2  24   0   6]\n",
      " [  6 239   9   2   7]\n",
      " [  4   0 255   3   4]\n",
      " [  3   2   0 337   0]\n",
      " [  4   7   6   5 212]]\n",
      "accuracy: 0.9347222222222222\n",
      "precision: 0.9334335374222427\n",
      "recall: 0.9326464997143823\n"
     ]
    }
   ],
   "source": [
    "tfidf_train = best_vectorizer.transform(df_train['Text'])\n",
    "nmf_train = best_model.transform(tfidf_train)\n",
    "yp = np.argmax(nmf_train, axis=1)\n",
    "cluster_to_index = np.take(permutation, yp)\n",
    "prediction = np.take(unique_labels, cluster_to_index)\n",
    "\n",
    "test_labels = np.array(df_train['Category'])\n",
    "\n",
    "print(f\"Prediction: {prediction} \\n\")\n",
    "print(f\"True Label: {test_labels} \\n\")\n",
    "\n",
    "# Calculate Accuracy\n",
    "total = len(np.array(prediction == test_labels))\n",
    "correct = len(np.where(np.array(prediction == test_labels) == True)[0])\n",
    "accuracy = correct/total\n",
    "\n",
    "# Construct confusion matrix\n",
    "confusion_mat = confusion_matrix(test_labels, prediction)\n",
    "\n",
    "# Calculate Precision\n",
    "_precision = precision(confusion_mat)\n",
    "# Calculate Recall\n",
    "_recall = recall(confusion_mat)\n",
    "\n",
    "print(confusion_mat)\n",
    "print(f\"accuracy: {accuracy}\")\n",
    "print(f\"precision: {_precision}\")\n",
    "print(f\"recall: {_recall}\")\n"
   ]
  },
  {
   "cell_type": "markdown",
   "id": "a0d8addf-2b44-43cc-a671-f1da42f83ca3",
   "metadata": {},
   "source": [
    "### NMF hyperparameter tuning"
   ]
  },
  {
   "cell_type": "code",
   "execution_count": 396,
   "id": "54e3c49f-d502-428c-b9b7-84ee61212434",
   "metadata": {},
   "outputs": [
    {
     "name": "stdout",
     "output_type": "stream",
     "text": [
      "(0, 3, 1, 2, 4) 0.9340277777777778\n",
      "(0, 3, 1, 2, 4) 0.9479166666666666\n",
      "(0, 3, 1, 2, 4) 0.9541666666666667\n",
      "(0, 3, 1, 2, 4) 0.9347222222222222\n",
      "(0, 3, 1, 2, 4) 0.9472222222222222\n",
      "(0, 3, 1, 2, 4) 0.9555555555555556\n",
      "(0, 3, 1, 2, 4) 0.9347222222222222\n",
      "(0, 3, 1, 2, 4) 0.9472222222222222\n",
      "(0, 3, 1, 2, 4) 0.9555555555555556\n",
      "(0, 3, 1, 2, 4) 0.9340277777777778\n",
      "(0, 3, 1, 2, 4) 0.9472222222222222\n",
      "(0, 3, 1, 2, 4) 0.9548611111111112\n",
      "(0, 3, 1, 2, 4) 0.9354166666666667\n",
      "(0, 3, 1, 2, 4) 0.9479166666666666\n",
      "(0, 3, 1, 2, 4) 0.95625\n",
      "(0, 3, 1, 2, 4) 0.9354166666666667\n",
      "(0, 3, 1, 2, 4) 0.9479166666666666\n",
      "(0, 3, 1, 2, 4) 0.95625\n",
      "(0, 3, 1, 2, 4) 0.9340277777777778\n",
      "(0, 3, 1, 2, 4) 0.9472222222222222\n",
      "(0, 3, 1, 2, 4) 0.9555555555555556\n",
      "(0, 3, 1, 2, 4) 0.9361111111111111\n",
      "(0, 3, 1, 2, 4) 0.9479166666666666\n",
      "(0, 3, 1, 2, 4) 0.9534722222222223\n",
      "(0, 3, 1, 2, 4) 0.9361111111111111\n",
      "(0, 3, 1, 2, 4) 0.9479166666666666\n",
      "(0, 3, 1, 2, 4) 0.9534722222222223\n",
      "TfidfVectorizer(max_df=0.9, max_features=1500, min_df=7) NMF(beta_loss='kullback-leibler', init='nndsvda', n_components=5,\n",
      "    random_state=0, solver='mu') (0, 3, 1, 2, 4) {'min_df': 7, 'max_df': 0.9, 'max_features': 1500}\n"
     ]
    }
   ],
   "source": [
    "# tune parameters\n",
    "summary_stats = {\n",
    "    'model': [],\n",
    "    'params': [],\n",
    "    'accuracy': [],\n",
    "    'precision': [],\n",
    "    'recall': []\n",
    "}\n",
    "\n",
    "max_accuracy = float('-inf')\n",
    "best_vectorizer = None\n",
    "best_model = None\n",
    "best_label_order = None\n",
    "best_args = None\n",
    "\n",
    "for min_df in [5, 7, 9]:\n",
    "    for max_df in [.8, .9, .95]:\n",
    "        for max_features in [500, 1000, 1500]:\n",
    "            args = {\n",
    "                'min_df': min_df,\n",
    "                'max_df': max_df,\n",
    "                'max_features': max_features\n",
    "            }\n",
    "            \n",
    "            vectorizer, model, permutation, accuracy = nmf_wrapper(df_train, **args)\n",
    "            print(permutation, accuracy)\n",
    "\n",
    "            tfidf_train = vectorizer.transform(df_train['Text'])\n",
    "            nmf_train = model.transform(tfidf_train)\n",
    "            yp = np.argmax(nmf_train, axis=1)\n",
    "            cluster_to_index = np.take(permutation, yp)\n",
    "            prediction = np.take(unique_labels, cluster_to_index)\n",
    "            \n",
    "            test_labels = np.array(df_train['Category'])\n",
    "            \n",
    "            # Calculate Accuracy\n",
    "            total = len(np.array(prediction == test_labels))\n",
    "            correct = len(np.where(np.array(prediction == test_labels) == True)[0])\n",
    "            accuracy = correct/total\n",
    "            \n",
    "            # Construct confusion matrix\n",
    "            confusion_mat = confusion_matrix(test_labels, prediction)\n",
    "            \n",
    "            # Calculate Precision\n",
    "            _precision = precision(confusion_mat)\n",
    "            # Calculate Recall\n",
    "            _recall = recall(confusion_mat)\n",
    "\n",
    "\n",
    "            summary_stats['model'].append(\"NMF\")\n",
    "            summary_stats['params'].append(json.dumps(args))\n",
    "            summary_stats['accuracy'].append(accuracy)\n",
    "            summary_stats['precision'].append(_precision)\n",
    "            summary_stats['recall'].append(_recall)\n",
    "\n",
    "            if accuracy > max_accuracy:\n",
    "                max_accuracy = accuracy\n",
    "                best_vectorizer = vectorizer\n",
    "                best_model = model\n",
    "                best_label_order = permutation\n",
    "                best_args = args\n",
    "\n",
    "print(best_vectorizer, best_model, best_label_order, best_args)\n"
   ]
  },
  {
   "cell_type": "code",
   "execution_count": 397,
   "id": "49a63cdb-515f-4bd4-9f28-13a728fa38a7",
   "metadata": {},
   "outputs": [
    {
     "data": {
      "text/html": [
       "<div>\n",
       "<style scoped>\n",
       "    .dataframe tbody tr th:only-of-type {\n",
       "        vertical-align: middle;\n",
       "    }\n",
       "\n",
       "    .dataframe tbody tr th {\n",
       "        vertical-align: top;\n",
       "    }\n",
       "\n",
       "    .dataframe thead th {\n",
       "        text-align: right;\n",
       "    }\n",
       "</style>\n",
       "<table border=\"1\" class=\"dataframe\">\n",
       "  <thead>\n",
       "    <tr style=\"text-align: right;\">\n",
       "      <th></th>\n",
       "      <th>model</th>\n",
       "      <th>params</th>\n",
       "      <th>accuracy</th>\n",
       "      <th>precision</th>\n",
       "      <th>recall</th>\n",
       "    </tr>\n",
       "  </thead>\n",
       "  <tbody>\n",
       "    <tr>\n",
       "      <th>0</th>\n",
       "      <td>NMF</td>\n",
       "      <td>{\"min_df\": 5, \"max_df\": 0.8, \"max_features\": 500}</td>\n",
       "      <td>0.934722</td>\n",
       "      <td>0.933434</td>\n",
       "      <td>0.932646</td>\n",
       "    </tr>\n",
       "    <tr>\n",
       "      <th>1</th>\n",
       "      <td>NMF</td>\n",
       "      <td>{\"min_df\": 5, \"max_df\": 0.8, \"max_features\": 1...</td>\n",
       "      <td>0.947917</td>\n",
       "      <td>0.946457</td>\n",
       "      <td>0.945695</td>\n",
       "    </tr>\n",
       "    <tr>\n",
       "      <th>2</th>\n",
       "      <td>NMF</td>\n",
       "      <td>{\"min_df\": 5, \"max_df\": 0.8, \"max_features\": 1...</td>\n",
       "      <td>0.954167</td>\n",
       "      <td>0.952451</td>\n",
       "      <td>0.953037</td>\n",
       "    </tr>\n",
       "    <tr>\n",
       "      <th>3</th>\n",
       "      <td>NMF</td>\n",
       "      <td>{\"min_df\": 5, \"max_df\": 0.9, \"max_features\": 500}</td>\n",
       "      <td>0.934722</td>\n",
       "      <td>0.933171</td>\n",
       "      <td>0.932225</td>\n",
       "    </tr>\n",
       "    <tr>\n",
       "      <th>4</th>\n",
       "      <td>NMF</td>\n",
       "      <td>{\"min_df\": 5, \"max_df\": 0.9, \"max_features\": 1...</td>\n",
       "      <td>0.947222</td>\n",
       "      <td>0.945446</td>\n",
       "      <td>0.945098</td>\n",
       "    </tr>\n",
       "    <tr>\n",
       "      <th>5</th>\n",
       "      <td>NMF</td>\n",
       "      <td>{\"min_df\": 5, \"max_df\": 0.9, \"max_features\": 1...</td>\n",
       "      <td>0.955556</td>\n",
       "      <td>0.953941</td>\n",
       "      <td>0.954643</td>\n",
       "    </tr>\n",
       "    <tr>\n",
       "      <th>6</th>\n",
       "      <td>NMF</td>\n",
       "      <td>{\"min_df\": 5, \"max_df\": 0.95, \"max_features\": ...</td>\n",
       "      <td>0.934722</td>\n",
       "      <td>0.933171</td>\n",
       "      <td>0.932225</td>\n",
       "    </tr>\n",
       "    <tr>\n",
       "      <th>7</th>\n",
       "      <td>NMF</td>\n",
       "      <td>{\"min_df\": 5, \"max_df\": 0.95, \"max_features\": ...</td>\n",
       "      <td>0.947222</td>\n",
       "      <td>0.945446</td>\n",
       "      <td>0.945098</td>\n",
       "    </tr>\n",
       "    <tr>\n",
       "      <th>8</th>\n",
       "      <td>NMF</td>\n",
       "      <td>{\"min_df\": 5, \"max_df\": 0.95, \"max_features\": ...</td>\n",
       "      <td>0.955556</td>\n",
       "      <td>0.953941</td>\n",
       "      <td>0.954643</td>\n",
       "    </tr>\n",
       "    <tr>\n",
       "      <th>9</th>\n",
       "      <td>NMF</td>\n",
       "      <td>{\"min_df\": 7, \"max_df\": 0.8, \"max_features\": 500}</td>\n",
       "      <td>0.934722</td>\n",
       "      <td>0.933434</td>\n",
       "      <td>0.932646</td>\n",
       "    </tr>\n",
       "    <tr>\n",
       "      <th>10</th>\n",
       "      <td>NMF</td>\n",
       "      <td>{\"min_df\": 7, \"max_df\": 0.8, \"max_features\": 1...</td>\n",
       "      <td>0.947222</td>\n",
       "      <td>0.945451</td>\n",
       "      <td>0.945253</td>\n",
       "    </tr>\n",
       "    <tr>\n",
       "      <th>11</th>\n",
       "      <td>NMF</td>\n",
       "      <td>{\"min_df\": 7, \"max_df\": 0.8, \"max_features\": 1...</td>\n",
       "      <td>0.954167</td>\n",
       "      <td>0.952298</td>\n",
       "      <td>0.953192</td>\n",
       "    </tr>\n",
       "    <tr>\n",
       "      <th>12</th>\n",
       "      <td>NMF</td>\n",
       "      <td>{\"min_df\": 7, \"max_df\": 0.9, \"max_features\": 500}</td>\n",
       "      <td>0.936111</td>\n",
       "      <td>0.934684</td>\n",
       "      <td>0.933738</td>\n",
       "    </tr>\n",
       "    <tr>\n",
       "      <th>13</th>\n",
       "      <td>NMF</td>\n",
       "      <td>{\"min_df\": 7, \"max_df\": 0.9, \"max_features\": 1...</td>\n",
       "      <td>0.947917</td>\n",
       "      <td>0.946468</td>\n",
       "      <td>0.945850</td>\n",
       "    </tr>\n",
       "    <tr>\n",
       "      <th>14</th>\n",
       "      <td>NMF</td>\n",
       "      <td>{\"min_df\": 7, \"max_df\": 0.9, \"max_features\": 1...</td>\n",
       "      <td>0.957639</td>\n",
       "      <td>0.955915</td>\n",
       "      <td>0.956908</td>\n",
       "    </tr>\n",
       "    <tr>\n",
       "      <th>15</th>\n",
       "      <td>NMF</td>\n",
       "      <td>{\"min_df\": 7, \"max_df\": 0.95, \"max_features\": ...</td>\n",
       "      <td>0.936111</td>\n",
       "      <td>0.934684</td>\n",
       "      <td>0.933738</td>\n",
       "    </tr>\n",
       "    <tr>\n",
       "      <th>16</th>\n",
       "      <td>NMF</td>\n",
       "      <td>{\"min_df\": 7, \"max_df\": 0.95, \"max_features\": ...</td>\n",
       "      <td>0.947917</td>\n",
       "      <td>0.946468</td>\n",
       "      <td>0.945850</td>\n",
       "    </tr>\n",
       "    <tr>\n",
       "      <th>17</th>\n",
       "      <td>NMF</td>\n",
       "      <td>{\"min_df\": 7, \"max_df\": 0.95, \"max_features\": ...</td>\n",
       "      <td>0.957639</td>\n",
       "      <td>0.955915</td>\n",
       "      <td>0.956908</td>\n",
       "    </tr>\n",
       "    <tr>\n",
       "      <th>18</th>\n",
       "      <td>NMF</td>\n",
       "      <td>{\"min_df\": 9, \"max_df\": 0.8, \"max_features\": 500}</td>\n",
       "      <td>0.934722</td>\n",
       "      <td>0.933434</td>\n",
       "      <td>0.932646</td>\n",
       "    </tr>\n",
       "    <tr>\n",
       "      <th>19</th>\n",
       "      <td>NMF</td>\n",
       "      <td>{\"min_df\": 9, \"max_df\": 0.8, \"max_features\": 1...</td>\n",
       "      <td>0.947222</td>\n",
       "      <td>0.945446</td>\n",
       "      <td>0.945098</td>\n",
       "    </tr>\n",
       "    <tr>\n",
       "      <th>20</th>\n",
       "      <td>NMF</td>\n",
       "      <td>{\"min_df\": 9, \"max_df\": 0.8, \"max_features\": 1...</td>\n",
       "      <td>0.955556</td>\n",
       "      <td>0.953776</td>\n",
       "      <td>0.954540</td>\n",
       "    </tr>\n",
       "    <tr>\n",
       "      <th>21</th>\n",
       "      <td>NMF</td>\n",
       "      <td>{\"min_df\": 9, \"max_df\": 0.9, \"max_features\": 500}</td>\n",
       "      <td>0.936111</td>\n",
       "      <td>0.934473</td>\n",
       "      <td>0.933574</td>\n",
       "    </tr>\n",
       "    <tr>\n",
       "      <th>22</th>\n",
       "      <td>NMF</td>\n",
       "      <td>{\"min_df\": 9, \"max_df\": 0.9, \"max_features\": 1...</td>\n",
       "      <td>0.947222</td>\n",
       "      <td>0.945451</td>\n",
       "      <td>0.945253</td>\n",
       "    </tr>\n",
       "    <tr>\n",
       "      <th>23</th>\n",
       "      <td>NMF</td>\n",
       "      <td>{\"min_df\": 9, \"max_df\": 0.9, \"max_features\": 1...</td>\n",
       "      <td>0.954861</td>\n",
       "      <td>0.953057</td>\n",
       "      <td>0.953634</td>\n",
       "    </tr>\n",
       "    <tr>\n",
       "      <th>24</th>\n",
       "      <td>NMF</td>\n",
       "      <td>{\"min_df\": 9, \"max_df\": 0.95, \"max_features\": ...</td>\n",
       "      <td>0.936111</td>\n",
       "      <td>0.934473</td>\n",
       "      <td>0.933574</td>\n",
       "    </tr>\n",
       "    <tr>\n",
       "      <th>25</th>\n",
       "      <td>NMF</td>\n",
       "      <td>{\"min_df\": 9, \"max_df\": 0.95, \"max_features\": ...</td>\n",
       "      <td>0.947222</td>\n",
       "      <td>0.945451</td>\n",
       "      <td>0.945253</td>\n",
       "    </tr>\n",
       "    <tr>\n",
       "      <th>26</th>\n",
       "      <td>NMF</td>\n",
       "      <td>{\"min_df\": 9, \"max_df\": 0.95, \"max_features\": ...</td>\n",
       "      <td>0.954861</td>\n",
       "      <td>0.953057</td>\n",
       "      <td>0.953634</td>\n",
       "    </tr>\n",
       "  </tbody>\n",
       "</table>\n",
       "</div>"
      ],
      "text/plain": [
       "   model                                             params  accuracy  \\\n",
       "0    NMF  {\"min_df\": 5, \"max_df\": 0.8, \"max_features\": 500}  0.934722   \n",
       "1    NMF  {\"min_df\": 5, \"max_df\": 0.8, \"max_features\": 1...  0.947917   \n",
       "2    NMF  {\"min_df\": 5, \"max_df\": 0.8, \"max_features\": 1...  0.954167   \n",
       "3    NMF  {\"min_df\": 5, \"max_df\": 0.9, \"max_features\": 500}  0.934722   \n",
       "4    NMF  {\"min_df\": 5, \"max_df\": 0.9, \"max_features\": 1...  0.947222   \n",
       "5    NMF  {\"min_df\": 5, \"max_df\": 0.9, \"max_features\": 1...  0.955556   \n",
       "6    NMF  {\"min_df\": 5, \"max_df\": 0.95, \"max_features\": ...  0.934722   \n",
       "7    NMF  {\"min_df\": 5, \"max_df\": 0.95, \"max_features\": ...  0.947222   \n",
       "8    NMF  {\"min_df\": 5, \"max_df\": 0.95, \"max_features\": ...  0.955556   \n",
       "9    NMF  {\"min_df\": 7, \"max_df\": 0.8, \"max_features\": 500}  0.934722   \n",
       "10   NMF  {\"min_df\": 7, \"max_df\": 0.8, \"max_features\": 1...  0.947222   \n",
       "11   NMF  {\"min_df\": 7, \"max_df\": 0.8, \"max_features\": 1...  0.954167   \n",
       "12   NMF  {\"min_df\": 7, \"max_df\": 0.9, \"max_features\": 500}  0.936111   \n",
       "13   NMF  {\"min_df\": 7, \"max_df\": 0.9, \"max_features\": 1...  0.947917   \n",
       "14   NMF  {\"min_df\": 7, \"max_df\": 0.9, \"max_features\": 1...  0.957639   \n",
       "15   NMF  {\"min_df\": 7, \"max_df\": 0.95, \"max_features\": ...  0.936111   \n",
       "16   NMF  {\"min_df\": 7, \"max_df\": 0.95, \"max_features\": ...  0.947917   \n",
       "17   NMF  {\"min_df\": 7, \"max_df\": 0.95, \"max_features\": ...  0.957639   \n",
       "18   NMF  {\"min_df\": 9, \"max_df\": 0.8, \"max_features\": 500}  0.934722   \n",
       "19   NMF  {\"min_df\": 9, \"max_df\": 0.8, \"max_features\": 1...  0.947222   \n",
       "20   NMF  {\"min_df\": 9, \"max_df\": 0.8, \"max_features\": 1...  0.955556   \n",
       "21   NMF  {\"min_df\": 9, \"max_df\": 0.9, \"max_features\": 500}  0.936111   \n",
       "22   NMF  {\"min_df\": 9, \"max_df\": 0.9, \"max_features\": 1...  0.947222   \n",
       "23   NMF  {\"min_df\": 9, \"max_df\": 0.9, \"max_features\": 1...  0.954861   \n",
       "24   NMF  {\"min_df\": 9, \"max_df\": 0.95, \"max_features\": ...  0.936111   \n",
       "25   NMF  {\"min_df\": 9, \"max_df\": 0.95, \"max_features\": ...  0.947222   \n",
       "26   NMF  {\"min_df\": 9, \"max_df\": 0.95, \"max_features\": ...  0.954861   \n",
       "\n",
       "    precision    recall  \n",
       "0    0.933434  0.932646  \n",
       "1    0.946457  0.945695  \n",
       "2    0.952451  0.953037  \n",
       "3    0.933171  0.932225  \n",
       "4    0.945446  0.945098  \n",
       "5    0.953941  0.954643  \n",
       "6    0.933171  0.932225  \n",
       "7    0.945446  0.945098  \n",
       "8    0.953941  0.954643  \n",
       "9    0.933434  0.932646  \n",
       "10   0.945451  0.945253  \n",
       "11   0.952298  0.953192  \n",
       "12   0.934684  0.933738  \n",
       "13   0.946468  0.945850  \n",
       "14   0.955915  0.956908  \n",
       "15   0.934684  0.933738  \n",
       "16   0.946468  0.945850  \n",
       "17   0.955915  0.956908  \n",
       "18   0.933434  0.932646  \n",
       "19   0.945446  0.945098  \n",
       "20   0.953776  0.954540  \n",
       "21   0.934473  0.933574  \n",
       "22   0.945451  0.945253  \n",
       "23   0.953057  0.953634  \n",
       "24   0.934473  0.933574  \n",
       "25   0.945451  0.945253  \n",
       "26   0.953057  0.953634  "
      ]
     },
     "execution_count": 397,
     "metadata": {},
     "output_type": "execute_result"
    }
   ],
   "source": [
    "df_summary_stats = pd.DataFrame(summary_stats)\n",
    "df_summary_stats"
   ]
  },
  {
   "cell_type": "code",
   "execution_count": 398,
   "id": "024be89c-4b22-40c7-84e2-ce624616612d",
   "metadata": {},
   "outputs": [
    {
     "data": {
      "text/html": [
       "<div>\n",
       "<style scoped>\n",
       "    .dataframe tbody tr th:only-of-type {\n",
       "        vertical-align: middle;\n",
       "    }\n",
       "\n",
       "    .dataframe tbody tr th {\n",
       "        vertical-align: top;\n",
       "    }\n",
       "\n",
       "    .dataframe thead th {\n",
       "        text-align: right;\n",
       "    }\n",
       "</style>\n",
       "<table border=\"1\" class=\"dataframe\">\n",
       "  <thead>\n",
       "    <tr style=\"text-align: right;\">\n",
       "      <th></th>\n",
       "      <th>ArticleId</th>\n",
       "      <th>Category</th>\n",
       "    </tr>\n",
       "  </thead>\n",
       "  <tbody>\n",
       "    <tr>\n",
       "      <th>0</th>\n",
       "      <td>1018</td>\n",
       "      <td>sport</td>\n",
       "    </tr>\n",
       "    <tr>\n",
       "      <th>1</th>\n",
       "      <td>1319</td>\n",
       "      <td>tech</td>\n",
       "    </tr>\n",
       "    <tr>\n",
       "      <th>2</th>\n",
       "      <td>1138</td>\n",
       "      <td>sport</td>\n",
       "    </tr>\n",
       "    <tr>\n",
       "      <th>3</th>\n",
       "      <td>459</td>\n",
       "      <td>business</td>\n",
       "    </tr>\n",
       "    <tr>\n",
       "      <th>4</th>\n",
       "      <td>1020</td>\n",
       "      <td>sport</td>\n",
       "    </tr>\n",
       "    <tr>\n",
       "      <th>...</th>\n",
       "      <td>...</td>\n",
       "      <td>...</td>\n",
       "    </tr>\n",
       "    <tr>\n",
       "      <th>730</th>\n",
       "      <td>1923</td>\n",
       "      <td>business</td>\n",
       "    </tr>\n",
       "    <tr>\n",
       "      <th>731</th>\n",
       "      <td>373</td>\n",
       "      <td>entertainment</td>\n",
       "    </tr>\n",
       "    <tr>\n",
       "      <th>732</th>\n",
       "      <td>1704</td>\n",
       "      <td>politics</td>\n",
       "    </tr>\n",
       "    <tr>\n",
       "      <th>733</th>\n",
       "      <td>206</td>\n",
       "      <td>business</td>\n",
       "    </tr>\n",
       "    <tr>\n",
       "      <th>734</th>\n",
       "      <td>471</td>\n",
       "      <td>politics</td>\n",
       "    </tr>\n",
       "  </tbody>\n",
       "</table>\n",
       "<p>735 rows × 2 columns</p>\n",
       "</div>"
      ],
      "text/plain": [
       "     ArticleId       Category\n",
       "0         1018          sport\n",
       "1         1319           tech\n",
       "2         1138          sport\n",
       "3          459       business\n",
       "4         1020          sport\n",
       "..         ...            ...\n",
       "730       1923       business\n",
       "731        373  entertainment\n",
       "732       1704       politics\n",
       "733        206       business\n",
       "734        471       politics\n",
       "\n",
       "[735 rows x 2 columns]"
      ]
     },
     "execution_count": 398,
     "metadata": {},
     "output_type": "execute_result"
    }
   ],
   "source": [
    "tfidf_test = best_vectorizer.transform(df_test['Text'])\n",
    "nmf_test = best_model.transform(tfidf_test)\n",
    "yp = np.argmax(nmf_test, axis=1)\n",
    "# prediction = [unique_labels[best_label_order[i]] for i in yp]\n",
    "cluster_to_index = np.take(permutation, yp)\n",
    "prediction = np.take(unique_labels, cluster_to_index)\n",
    "\n",
    "result = pd.DataFrame()\n",
    "result['ArticleId'] = df_test.ArticleId\n",
    "result['Category'] = prediction\n",
    "\n",
    "result.to_csv('./results/submission.csv', index=False)\n",
    "result\n",
    "\n",
    "# 95.646% test accuracy on Kaggle"
   ]
  },
  {
   "cell_type": "code",
   "execution_count": 399,
   "id": "d1689866-403f-4544-aa5a-48c7f8ff3eb0",
   "metadata": {},
   "outputs": [
    {
     "name": "stdout",
     "output_type": "stream",
     "text": [
      "[[314   1  13   1   6]\n",
      " [  2 246   7   0   8]\n",
      " [  2   0 262   1   1]\n",
      " [  2   3   1 336   0]\n",
      " [  3   2   6   2 221]]\n",
      "accuracy: 0.9576388888888889\n",
      "precision: 0.9559154131296218\n",
      "recall: 0.9569075280752436\n"
     ]
    }
   ],
   "source": [
    "tfidf_train = best_vectorizer.transform(df_train['Text'])\n",
    "nmf_train = best_model.transform(tfidf_train)\n",
    "yp = np.argmax(nmf_train, axis=1)\n",
    "# prediction = [unique_labels[best_label_order[i]] for i in yp]\n",
    "cluster_to_index = np.take(permutation, yp)\n",
    "\n",
    "prediction = np.take(unique_labels, cluster_to_index)\n",
    "train_labels = np.array(df_train['Category'])\n",
    "\n",
    "# Calculate Accuracy\n",
    "total = len(np.array(prediction == train_labels))\n",
    "correct = len(np.where(np.array(prediction == train_labels) == True)[0])\n",
    "accuracy = correct/total\n",
    "\n",
    "# Construct confusion matrix\n",
    "confusion_mat = confusion_matrix(test_labels, prediction)\n",
    "\n",
    "# Calculate Precision\n",
    "_precision = precision(confusion_mat)\n",
    "# Calculate Recall\n",
    "_recall = recall(confusion_mat)\n",
    "\n",
    "print(confusion_mat)\n",
    "print(f\"accuracy: {accuracy}\")\n",
    "print(f\"precision: {_precision}\")\n",
    "print(f\"recall: {_recall}\")"
   ]
  },
  {
   "cell_type": "markdown",
   "id": "5940dace-90c1-4d00-86a8-d2a33615c041",
   "metadata": {},
   "source": [
    "### Supervised Learning\n",
    "\n",
    "We will use support vector machine with linear kernel as our supervised learning model and compare its performance with matrix factorization"
   ]
  },
  {
   "cell_type": "code",
   "execution_count": null,
   "id": "4f470aef-e90d-4dda-a0cc-b4831a4b3e70",
   "metadata": {},
   "outputs": [],
   "source": []
  },
  {
   "cell_type": "markdown",
   "id": "65355f83-bb20-43c9-8fba-e9dd7a01cb09",
   "metadata": {},
   "source": [
    "## References"
   ]
  },
  {
   "cell_type": "markdown",
   "id": "b67147e7-a7f8-4b35-b104-104de113be89",
   "metadata": {},
   "source": [
    "##### [1] https://www.kaggle.com/code/jieshends2020/matrix-factorization-97-acc-with-1-labels/notebook\n",
    "##### [2] https://www.kaggle.com/code/dazhengzhu/bbc-news-classification\n",
    "##### [3] https://scikit-learn.org/stable/modules/generated/sklearn.decomposition.NMF.html\n",
    "##### [4] https://scikit-learn.org/stable/modules/generated/sklearn.feature_extraction.text.TfidfVectorizer.html"
   ]
  },
  {
   "cell_type": "code",
   "execution_count": null,
   "id": "b1ab00c3-fdbf-49db-a230-bb5de9dd66af",
   "metadata": {},
   "outputs": [],
   "source": []
  },
  {
   "cell_type": "code",
   "execution_count": null,
   "id": "a715bed4-50fd-475f-b1f2-fba22106f3a1",
   "metadata": {},
   "outputs": [],
   "source": []
  },
  {
   "cell_type": "code",
   "execution_count": null,
   "id": "b0b7337f-0b86-46d6-a79b-ecc16362bfab",
   "metadata": {},
   "outputs": [],
   "source": []
  },
  {
   "cell_type": "code",
   "execution_count": null,
   "id": "2e1344bb-bdc4-49fc-92a5-95cc492d51e5",
   "metadata": {},
   "outputs": [],
   "source": []
  },
  {
   "cell_type": "code",
   "execution_count": null,
   "id": "3a4dd786-07b9-4a81-ad79-33eecbd03bda",
   "metadata": {},
   "outputs": [],
   "source": []
  },
  {
   "cell_type": "code",
   "execution_count": null,
   "id": "e3ea5f4f-60a4-4d42-be95-084c50a27488",
   "metadata": {},
   "outputs": [],
   "source": []
  },
  {
   "cell_type": "code",
   "execution_count": null,
   "id": "4ca56321-e44a-4983-a31e-9e17218078a6",
   "metadata": {},
   "outputs": [],
   "source": []
  },
  {
   "cell_type": "code",
   "execution_count": null,
   "id": "6e34c534-b607-4072-ad8d-1a9cf98d1967",
   "metadata": {},
   "outputs": [],
   "source": []
  },
  {
   "cell_type": "code",
   "execution_count": null,
   "id": "1a747549-50e3-4dbb-ab0b-d502c73149e3",
   "metadata": {},
   "outputs": [],
   "source": []
  },
  {
   "cell_type": "code",
   "execution_count": null,
   "id": "8e797602-a30a-45a7-b4d2-d7edd2ac6b76",
   "metadata": {},
   "outputs": [],
   "source": []
  },
  {
   "cell_type": "code",
   "execution_count": null,
   "id": "d3fcd419-4be8-4838-af84-562ed5e49ad6",
   "metadata": {},
   "outputs": [],
   "source": []
  },
  {
   "cell_type": "code",
   "execution_count": null,
   "id": "9252e135-6c38-4cb6-95a0-7f0d9a4eecce",
   "metadata": {},
   "outputs": [],
   "source": []
  },
  {
   "cell_type": "code",
   "execution_count": null,
   "id": "89926e09-c9a9-4d17-a5fe-6e5dc8a5a228",
   "metadata": {},
   "outputs": [],
   "source": []
  },
  {
   "cell_type": "code",
   "execution_count": null,
   "id": "d0dcff0a-c4c5-42b1-9739-c26e3d7a3664",
   "metadata": {},
   "outputs": [],
   "source": []
  },
  {
   "cell_type": "code",
   "execution_count": null,
   "id": "5785195d-8a98-4532-bf17-c6e3b0811002",
   "metadata": {},
   "outputs": [],
   "source": []
  },
  {
   "cell_type": "code",
   "execution_count": null,
   "id": "4f862515-1b25-4f6a-9d40-b62f8278c669",
   "metadata": {},
   "outputs": [],
   "source": []
  },
  {
   "cell_type": "code",
   "execution_count": null,
   "id": "a0af3101-b9fd-47cd-bf58-6ff7cd21ebe4",
   "metadata": {},
   "outputs": [],
   "source": []
  },
  {
   "cell_type": "code",
   "execution_count": null,
   "id": "20f669d6-ae80-49ae-b203-39987570c613",
   "metadata": {},
   "outputs": [],
   "source": []
  },
  {
   "cell_type": "code",
   "execution_count": null,
   "id": "fd470bc8-a4e6-498f-974e-4a2e37086f98",
   "metadata": {},
   "outputs": [],
   "source": []
  }
 ],
 "metadata": {
  "kernelspec": {
   "display_name": "Python 3 (ipykernel)",
   "language": "python",
   "name": "python3"
  },
  "language_info": {
   "codemirror_mode": {
    "name": "ipython",
    "version": 3
   },
   "file_extension": ".py",
   "mimetype": "text/x-python",
   "name": "python",
   "nbconvert_exporter": "python",
   "pygments_lexer": "ipython3",
   "version": "3.10.12"
  }
 },
 "nbformat": 4,
 "nbformat_minor": 5
}
