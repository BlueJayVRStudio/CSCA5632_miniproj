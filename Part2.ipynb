{
 "cells": [
  {
   "cell_type": "markdown",
   "id": "c8e39833-c6b0-4ccf-ab8c-2631d96ea2b1",
   "metadata": {},
   "source": [
    "# Part 2: NMF and Movie Ratings"
   ]
  },
  {
   "cell_type": "code",
   "execution_count": 5,
   "id": "519fab6c-eb60-4715-89e8-191c3c397f4c",
   "metadata": {},
   "outputs": [],
   "source": [
    "import os\n",
    "import json\n",
    "import itertools\n",
    "import numpy as np\n",
    "import pandas as pd\n",
    "import matplotlib.pyplot as plt\n",
    "\n",
    "from sklearn.model_selection import train_test_split\n",
    "from sklearn.metrics import confusion_matrix\n",
    "from sklearn.decomposition import NMF\n",
    "from helpers.metrics import *\n",
    "\n",
    "from scipy.sparse import coo_matrix, csr_matrix\n",
    "from scipy.spatial.distance import jaccard, cosine"
   ]
  },
  {
   "cell_type": "code",
   "execution_count": 6,
   "id": "c99c8ba3-e39a-4e98-a79a-60691b59789a",
   "metadata": {},
   "outputs": [],
   "source": [
    "MV_users = pd.read_csv('./data/movies/users.csv')\n",
    "MV_movies = pd.read_csv('./data/movies/movies.csv')\n",
    "train = pd.read_csv('./data/movies/train.csv')\n",
    "test = pd.read_csv('./data/movies/test.csv')"
   ]
  },
  {
   "cell_type": "markdown",
   "id": "b3470f88-4e08-4117-bbdc-cf2fc2821928",
   "metadata": {},
   "source": [
    "## Section 1"
   ]
  },
  {
   "cell_type": "code",
   "execution_count": 7,
   "id": "ce63aff5-768b-4771-bb74-effce83a54db",
   "metadata": {},
   "outputs": [
    {
     "data": {
      "text/html": [
       "<div>\n",
       "<style scoped>\n",
       "    .dataframe tbody tr th:only-of-type {\n",
       "        vertical-align: middle;\n",
       "    }\n",
       "\n",
       "    .dataframe tbody tr th {\n",
       "        vertical-align: top;\n",
       "    }\n",
       "\n",
       "    .dataframe thead th {\n",
       "        text-align: right;\n",
       "    }\n",
       "</style>\n",
       "<table border=\"1\" class=\"dataframe\">\n",
       "  <thead>\n",
       "    <tr style=\"text-align: right;\">\n",
       "      <th></th>\n",
       "      <th>uID</th>\n",
       "      <th>mID</th>\n",
       "      <th>rating</th>\n",
       "    </tr>\n",
       "  </thead>\n",
       "  <tbody>\n",
       "    <tr>\n",
       "      <th>0</th>\n",
       "      <td>744</td>\n",
       "      <td>1210</td>\n",
       "      <td>5</td>\n",
       "    </tr>\n",
       "    <tr>\n",
       "      <th>1</th>\n",
       "      <td>3040</td>\n",
       "      <td>1584</td>\n",
       "      <td>4</td>\n",
       "    </tr>\n",
       "    <tr>\n",
       "      <th>2</th>\n",
       "      <td>1451</td>\n",
       "      <td>1293</td>\n",
       "      <td>5</td>\n",
       "    </tr>\n",
       "    <tr>\n",
       "      <th>3</th>\n",
       "      <td>5455</td>\n",
       "      <td>3176</td>\n",
       "      <td>2</td>\n",
       "    </tr>\n",
       "    <tr>\n",
       "      <th>4</th>\n",
       "      <td>2507</td>\n",
       "      <td>3074</td>\n",
       "      <td>5</td>\n",
       "    </tr>\n",
       "    <tr>\n",
       "      <th>...</th>\n",
       "      <td>...</td>\n",
       "      <td>...</td>\n",
       "      <td>...</td>\n",
       "    </tr>\n",
       "    <tr>\n",
       "      <th>700141</th>\n",
       "      <td>1184</td>\n",
       "      <td>2916</td>\n",
       "      <td>3</td>\n",
       "    </tr>\n",
       "    <tr>\n",
       "      <th>700142</th>\n",
       "      <td>137</td>\n",
       "      <td>1372</td>\n",
       "      <td>5</td>\n",
       "    </tr>\n",
       "    <tr>\n",
       "      <th>700143</th>\n",
       "      <td>195</td>\n",
       "      <td>2514</td>\n",
       "      <td>3</td>\n",
       "    </tr>\n",
       "    <tr>\n",
       "      <th>700144</th>\n",
       "      <td>1676</td>\n",
       "      <td>2566</td>\n",
       "      <td>3</td>\n",
       "    </tr>\n",
       "    <tr>\n",
       "      <th>700145</th>\n",
       "      <td>4611</td>\n",
       "      <td>1888</td>\n",
       "      <td>1</td>\n",
       "    </tr>\n",
       "  </tbody>\n",
       "</table>\n",
       "<p>700146 rows × 3 columns</p>\n",
       "</div>"
      ],
      "text/plain": [
       "         uID   mID  rating\n",
       "0        744  1210       5\n",
       "1       3040  1584       4\n",
       "2       1451  1293       5\n",
       "3       5455  3176       2\n",
       "4       2507  3074       5\n",
       "...      ...   ...     ...\n",
       "700141  1184  2916       3\n",
       "700142   137  1372       5\n",
       "700143   195  2514       3\n",
       "700144  1676  2566       3\n",
       "700145  4611  1888       1\n",
       "\n",
       "[700146 rows x 3 columns]"
      ]
     },
     "execution_count": 7,
     "metadata": {},
     "output_type": "execute_result"
    }
   ],
   "source": [
    "train"
   ]
  },
  {
   "cell_type": "markdown",
   "id": "4918e5ff-15e3-412c-9a73-82b9e84317cb",
   "metadata": {},
   "source": [
    "## Section 2"
   ]
  },
  {
   "cell_type": "markdown",
   "id": "fa6a7469",
   "metadata": {},
   "source": [
    "jupyter notebook main test\n",
    "\n",
    "jupyter notebook main test 1"
   ]
  },
  {
   "cell_type": "markdown",
   "id": "5def5849",
   "metadata": {},
   "source": []
  }
 ],
 "metadata": {
  "kernelspec": {
   "display_name": "Python 3 (ipykernel)",
   "language": "python",
   "name": "python3"
  },
  "language_info": {
   "codemirror_mode": {
    "name": "ipython",
    "version": 3
   },
   "file_extension": ".py",
   "mimetype": "text/x-python",
   "name": "python",
   "nbconvert_exporter": "python",
   "pygments_lexer": "ipython3",
   "version": "3.10.12"
  }
 },
 "nbformat": 4,
 "nbformat_minor": 5
}
