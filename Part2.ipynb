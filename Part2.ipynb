{
 "cells": [
  {
   "cell_type": "markdown",
   "id": "9a36339a-4ed7-4fab-9e3b-c12d79c34103",
   "metadata": {},
   "source": [
    "# NMF and Movie Ratings"
   ]
  },
  {
   "cell_type": "code",
   "execution_count": 3,
   "id": "2bd3160f-a573-43f4-8873-12fc5357bf38",
   "metadata": {},
   "outputs": [],
   "source": [
    "import os\n",
    "import json\n",
    "import itertools\n",
    "import numpy as np\n",
    "import pandas as pd\n",
    "import matplotlib.pyplot as plt\n",
    "\n",
    "from sklearn.model_selection import train_test_split\n",
    "from sklearn.metrics import confusion_matrix\n",
    "from sklearn.decomposition import NMF\n",
    "from helpers.metrics import *\n",
    "\n",
    "from scipy.sparse import coo_matrix, csr_matrix\n",
    "from scipy.spatial.distance import jaccard, cosine"
   ]
  },
  {
   "cell_type": "code",
   "execution_count": 4,
   "id": "39595952-e69d-4020-b7d5-a98197429737",
   "metadata": {},
   "outputs": [],
   "source": [
    "MV_users = pd.read_csv('./data/movies/users.csv')\n",
    "MV_movies = pd.read_csv('./data/movies/movies.csv')\n",
    "train = pd.read_csv('./data/movies/train.csv')\n",
    "test = pd.read_csv('./data/movies/test.csv')"
   ]
  },
  {
   "cell_type": "markdown",
   "id": "0f1bd07b-9c1b-4f01-87c9-989437972e00",
   "metadata": {},
   "source": [
    "## Section 1"
   ]
  },
  {
   "cell_type": "code",
   "execution_count": null,
   "id": "6c220528-5a5e-4f75-925c-42f6415edede",
   "metadata": {},
   "outputs": [],
   "source": []
  },
  {
   "cell_type": "markdown",
   "id": "5c1903d3-ea22-417a-b3dd-50e10a859932",
   "metadata": {},
   "source": [
    "## Section 2"
   ]
  },
  {
   "cell_type": "code",
   "execution_count": null,
   "id": "b6c6b04b-619b-409b-b48d-48ce60236710",
   "metadata": {},
   "outputs": [],
   "source": []
  }
 ],
 "metadata": {
  "kernelspec": {
   "display_name": "Python 3 (ipykernel)",
   "language": "python",
   "name": "python3"
  },
  "language_info": {
   "codemirror_mode": {
    "name": "ipython",
    "version": 3
   },
   "file_extension": ".py",
   "mimetype": "text/x-python",
   "name": "python",
   "nbconvert_exporter": "python",
   "pygments_lexer": "ipython3",
   "version": "3.10.12"
  }
 },
 "nbformat": 4,
 "nbformat_minor": 5
}
